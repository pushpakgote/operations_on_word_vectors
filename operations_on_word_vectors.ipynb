{
 "cells": [
  {
   "cell_type": "markdown",
   "id": "1e8da53c-afb5-4d2b-8e50-769654c6250e",
   "metadata": {},
   "source": [
    "# Operations on Word Vectors\n"
   ]
  },
  {
   "cell_type": "code",
   "execution_count": null,
   "id": "491802af-3e7c-4d0f-a538-258a464865db",
   "metadata": {},
   "outputs": [],
   "source": [
    "import numpy as np"
   ]
  },
  {
   "cell_type": "code",
   "execution_count": 2,
   "id": "400ddc4b-9dc4-4389-9ce8-c72f5358626a",
   "metadata": {},
   "outputs": [],
   "source": [
    "def read_glove_vecs(glove_file):\n",
    "    words=set()\n",
    "    word_to_vec={}\n",
    "    with open(glove_file,'r') as f:\n",
    "        for i,line in enumerate(f):\n",
    "            l=line.strip().split()\n",
    "            words.add(l[0])\n",
    "            word_to_vec[l[0]]=np.array(l[1:],dtype=np.float32)\n",
    "\n",
    "    return words,word_to_vec"
   ]
  },
  {
   "cell_type": "code",
   "execution_count": 3,
   "id": "62599879-6ccf-4b53-bca4-04254d8816b2",
   "metadata": {},
   "outputs": [],
   "source": [
    "words,word_to_vec_map=read_glove_vecs(\"data/glove.6B.50d.txt\")"
   ]
  },
  {
   "cell_type": "markdown",
   "id": "96edcd84-31ee-4bad-b0d9-eb380f708643",
   "metadata": {},
   "source": [
    "- `words`: set of words in the vocabulary.\n",
    "- `word_to_vec_map`: dictionary mapping words to their GloVe vector representation.\n"
   ]
  },
  {
   "cell_type": "markdown",
   "id": "b6fdb714-b042-45c6-976a-bf2b743cacec",
   "metadata": {},
   "source": [
    "## 2 - Embedding Vectors Versus One-Hot Vectors\n",
    "One-hot vectors don't do a good job of capturing the level of similarity between words. This is because every one-hot vector has the same Euclidean distance from any other one-hot vector.\n",
    "\n",
    "Embedding vectors, such as GloVe vectors, provide much more useful information about the meaning of individual words.  \n",
    "Below you can see how to use GloVe vectors to measure the similarity between two words! "
   ]
  },
  {
   "cell_type": "markdown",
   "id": "4ea0328f-a0d4-4b0d-88f0-0b84709e37f3",
   "metadata": {
    "id": "xZBg2QwSJWhO",
    "tags": []
   },
   "source": [
    "<a name='3'></a>\n",
    "## 3 - Cosine Similarity\n",
    "\n",
    "To measure the similarity between two words, you need a way to measure the degree of similarity between two embedding vectors for the two words. Given two vectors $u$ and $v$, cosine similarity is defined as follows: \n",
    "\n",
    "$$\\text{CosineSimilarity(u, v)} = \\frac {u \\cdot v} {||u||_2 ||v||_2} = cos(\\theta) \\tag{1}$$\n",
    "\n",
    "* $u \\cdot v$ is the dot product (or inner product) of two vectors\n",
    "* $||u||_2$ is the norm (or length) of the vector $u$\n",
    "* $\\theta$ is the angle between $u$ and $v$. \n",
    "* The cosine similarity depends on the angle between $u$ and $v$. \n",
    "    * If $u$ and $v$ are very similar, their cosine similarity will be close to 1.\n",
    "    * If they are dissimilar, the cosine similarity will take a smaller value. \n",
    "\n",
    "<img src=\"images/cosine_sim.png\" style=\"width:800px;height:250px;\">\n",
    "<img src=\"images/cosine_sim.png\" width=\"800px\" height=\"250px\" />\n",
    "<caption><center><font color='purple'><b>Figure 1</b>: The cosine of the angle between two vectors is a measure of their similarity.</font></center></caption>\n",
    "\n",
    "\n",
    "The norm of $u$ is defined as $ ||u||_2 = \\sqrt{\\sum_{i=1}^{n} u_i^2}$\n"
   ]
  },
  {
   "cell_type": "code",
   "execution_count": 6,
   "id": "66b20e7d-6905-4db1-9ed8-6a57360d9eac",
   "metadata": {},
   "outputs": [],
   "source": [
    "def cosine_similarity(u, v):\n",
    "    \"\"\"\n",
    "    Cosine similarity reflects the degree of similarity between u and v\n",
    "        \n",
    "    Arguments:\n",
    "        u -- a word vector of shape (n,)          \n",
    "        v -- a word vector of shape (n,)\n",
    "\n",
    "    Returns:\n",
    "        cosine_similarity -- the cosine similarity between u and v defined by the formula above.\n",
    "    \"\"\"\n",
    "    # if u anv are axactly same then return 1\n",
    "    if np.all((u==v)):\n",
    "        return 1\n",
    "    \n",
    "    numerator=np.dot(u,v)\n",
    "    \n",
    "    norm_u=np.sqrt(np.sum(u*u))\n",
    "    norm_v=np.sqrt(np.sum(v*v))\n",
    "    \n",
    "    denominator=norm_u*norm_v\n",
    "    \n",
    "    #Avoid division by zero\n",
    "    if np.isclose(denominator,0,atol=1e-32):\n",
    "        return 0\n",
    "    \n",
    "    cosine_similarity=numerator/denominator # i.e u*v/(norm_u*norm_v) \n",
    "    \n",
    "    return cosine_similarity"
   ]
  },
  {
   "cell_type": "code",
   "execution_count": 26,
   "id": "bef67364-3f01-4205-b80b-4265d5fcbbe0",
   "metadata": {},
   "outputs": [
    {
     "name": "stdout",
     "output_type": "stream",
     "text": [
      "cosine_similarity:\n",
      "king,queen : 0.7839044\n",
      "ball,animal : 0.35434973\n",
      "sound,audio : 0.61024266\n",
      "gold,silver : 0.94980466\n"
     ]
    }
   ],
   "source": [
    "#We can see similarity of different words\n",
    "print(\"cosine_similarity:\")\n",
    "\n",
    "a,b='king','queen'\n",
    "print(f\"{a},{b} :\",cosine_similarity(word_to_vec_map[a],word_to_vec_map[b]))\n",
    "\n",
    "\n",
    "a,b='ball','animal'\n",
    "print(f\"{a},{b} :\",cosine_similarity(word_to_vec_map[a],word_to_vec_map[b]))\n",
    "\n",
    "\n",
    "a,b='sound','audio'\n",
    "print(f\"{a},{b} :\",cosine_similarity(word_to_vec_map[a],word_to_vec_map[b]))\n",
    "\n",
    "\n",
    "a,b='gold','silver'\n",
    "print(f\"{a},{b} :\",cosine_similarity(word_to_vec_map[a],word_to_vec_map[b]))"
   ]
  },
  {
   "cell_type": "markdown",
   "id": "281e9cdd-0b2a-4938-83bb-c4a8309ba163",
   "metadata": {
    "id": "63Pjp_QSJWhQ",
    "tags": []
   },
   "source": [
    "<a name='4'></a>\n",
    "## 4 - Word Analogy Task\n",
    "\n",
    "* In the word analogy task, complete this sentence:  \n",
    "    <font color='brown'>\"*a* is to *b* as *c* is to **____**\"</font>. \n",
    "\n",
    "* An example is:  \n",
    "    <font color='brown'> '*man* is to *woman* as *king* is to *queen*' </font>. \n",
    "\n",
    "* You're trying to find a word *d*, such that the associated word vectors $e_a, e_b, e_c, e_d$ are related in the following manner:   \n",
    "    $e_b - e_a \\approx e_d - e_c$\n",
    "* Measure the similarity between $e_b - e_a$ and $e_d - e_c$ using cosine similarity. \n"
   ]
  },
  {
   "cell_type": "code",
   "execution_count": 28,
   "id": "d807d121-b182-4fe8-993d-7ef9033280c1",
   "metadata": {},
   "outputs": [],
   "source": [
    "def complete_analogy(word_a, word_b, word_c, word_to_vec_map):\n",
    "    \"\"\"\n",
    "    Performs the word analogy task as explained above: a is to b as c is to ____. \n",
    "    \n",
    "    Arguments:\n",
    "    word_a -- a word, string\n",
    "    word_b -- a word, string\n",
    "    word_c -- a word, string\n",
    "    word_to_vec_map -- dictionary that maps words to their corresponding vectors. \n",
    "    \n",
    "    Returns:\n",
    "    best_word --  the word such that v_b - v_a is close to v_best_word - v_c, as measured by cosine similarity\n",
    "    \"\"\"\n",
    "    \n",
    "    e_a,e_b,e_c=word_to_vec_map[word_a],word_to_vec_map[word_b],word_to_vec_map[word_c]\n",
    "    \n",
    "    max_similarity=-100\n",
    "    best_word=None\n",
    "    \n",
    "    for word in word_to_vec_map.keys():\n",
    "        if word == word_c:\n",
    "            continue\n",
    "        \n",
    "        similarity=cosine_similarity(e_b-e_a , word_to_vec_map[word]-e_c)\n",
    "        \n",
    "        if similarity>max_similarity:\n",
    "            best_word=word\n",
    "            max_similarity=similarity\n",
    "            \n",
    "    return best_word"
   ]
  },
  {
   "cell_type": "code",
   "execution_count": 30,
   "id": "b29ad3f8-d330-401c-af7f-96a850273a53",
   "metadata": {},
   "outputs": [
    {
     "name": "stdout",
     "output_type": "stream",
     "text": [
      "italy -> italian :: spain -> spanish\n",
      "india -> delhi :: japan -> tokyo\n",
      "man -> woman :: boy -> girl\n",
      "small -> smaller :: large -> smaller\n"
     ]
    }
   ],
   "source": [
    "analogies = [('italy', 'italian', 'spain'), ('india', 'delhi', 'japan'), ('man', 'woman', 'boy'), ('small', 'smaller', 'large')]\n",
    "for analogy in analogies:\n",
    "    print ('{} -> {} :: {} -> {}'.format( *analogy, complete_analogy(*analogy, word_to_vec_map)))\n"
   ]
  },
  {
   "cell_type": "markdown",
   "id": "c5f7f90f-a86b-4841-b0be-6a71461ba043",
   "metadata": {
    "id": "HMRD25MuJWhW",
    "tags": []
   },
   "source": [
    "<a name='5'></a>\n",
    "## 5 - Debiasing Word Vectors (OPTIONAL/UNGRADED) "
   ]
  },
  {
   "cell_type": "markdown",
   "id": "eb4e968f-ebf5-4e7b-8060-1a7ba3ce52d3",
   "metadata": {
    "id": "9Q1w3ZpEJWhW"
   },
   "source": [
    "We'll examine gender biases that can be reflected in a word embedding, and explore algorithms for reducing the bias.\n",
    "\n",
    "Let's see how the GloVe word embeddings relate to gender. Begin by computing a vector $g = e_{woman}-e_{man}$, where $e_{woman}$ represents the word vector corresponding to the word *woman*, and $e_{man}$ corresponds to the word vector corresponding to the word *man*. The resulting vector $g$ roughly encodes the concept of \"gender\". \n",
    "\n",
    "We might get a more accurate representation if you compute $g_1 = e_{mother}-e_{father}$, $g_2 = e_{girl}-e_{boy}$, etc. and average over them, but just using $e_{woman}-e_{man}$ will give good enough results for now.\n"
   ]
  },
  {
   "cell_type": "code",
   "execution_count": 20,
   "id": "304b7341-a4b4-47e2-a15d-81679a31406e",
   "metadata": {
    "id": "_qpU-C3KJWhW",
    "scrolled": true
   },
   "outputs": [
    {
     "name": "stdout",
     "output_type": "stream",
     "text": [
      "[-0.148836    0.10399667 -0.25935667 -0.03240333  0.01153333  0.32187\n",
      "  0.01311333  0.15412333 -0.10357687 -0.19147413  0.15015667 -0.33757\n",
      "  0.13209367 -0.03451     0.07380333  0.007818   -0.21853667 -0.041751\n",
      "  0.166667    0.06849     0.28252333  0.077      -0.06684267  0.16454567\n",
      " -0.00415333  0.01046667 -0.1744     -0.15400667 -0.07104667  0.20935667\n",
      " -0.158      -0.06760633 -0.11513333 -0.15945405  0.06384333 -0.04588633\n",
      " -0.2629761   0.13704733 -0.08946667  0.004409   -0.033782   -0.09196333\n",
      "  0.19811333 -0.15878833 -0.14488    -0.14649667  0.06691     0.05848333\n",
      " -0.02217767 -0.04764   ]\n"
     ]
    }
   ],
   "source": [
    "g1 = word_to_vec_map['woman'] - word_to_vec_map['man']\n",
    "g2 = word_to_vec_map['girl'] - word_to_vec_map['boy']\n",
    "g3 = word_to_vec_map['father'] - word_to_vec_map['mother']\n",
    "g = (g1+g2+g3)/3\n",
    "print(g)"
   ]
  },
  {
   "cell_type": "markdown",
   "id": "506c85de-71d2-439a-979b-54ea30bfce3e",
   "metadata": {
    "id": "ORIvi0s1JWhX"
   },
   "source": [
    "Now, consider the cosine similarity of different words with $g$. What does a positive value of similarity mean, versus a negative cosine similarity? "
   ]
  },
  {
   "cell_type": "code",
   "execution_count": 21,
   "id": "cc27d413-1e82-4ba1-a5f7-6a5524225d2a",
   "metadata": {
    "id": "TgqV6pDxJWhX"
   },
   "outputs": [
    {
     "name": "stdout",
     "output_type": "stream",
     "text": [
      "List of names and their similarities with constructed vector:\n",
      "john -0.16946085693852617\n",
      "marie 0.26303065150045585\n",
      "sophie 0.24871678276981557\n",
      "ronaldo -0.37017955577023626\n",
      "priya 0.03285230825857449\n",
      "rahul -0.1650810283913178\n",
      "danielle 0.012137660583480737\n",
      "reza -0.012531827116938397\n",
      "katy 0.03533606697125641\n",
      "yasmin 0.09001629792186439\n"
     ]
    }
   ],
   "source": [
    "print ('List of names and their similarities with constructed vector:')\n",
    "\n",
    "# girls and boys name\n",
    "name_list = ['john', 'marie', 'sophie', 'ronaldo', 'priya', 'rahul', 'danielle', 'reza', 'katy', 'yasmin']\n",
    "\n",
    "for w in name_list:\n",
    "    print (w, cosine_similarity(word_to_vec_map[w], g))"
   ]
  },
  {
   "cell_type": "markdown",
   "id": "403550f8-052f-4adc-9e0c-dbbedcf094f2",
   "metadata": {
    "id": "YLELp0LJJWhY"
   },
   "source": [
    "As you can see, female first names tend to have a positive cosine similarity with our constructed vector $g$, while male first names tend to have a negative cosine similarity. This is not surprising, and the result seems acceptable. \n",
    "\n",
    "Now try with some other words:"
   ]
  },
  {
   "cell_type": "code",
   "execution_count": 22,
   "id": "9a5e93eb-3501-467a-afca-073f50636ccf",
   "metadata": {
    "id": "wgadfCaGJWhY"
   },
   "outputs": [
    {
     "name": "stdout",
     "output_type": "stream",
     "text": [
      "Other words and their similarities:\n",
      "lipstick 0.00614447590574842\n",
      "guns -0.1386696335652291\n",
      "science 0.09060975448034411\n",
      "arts 0.15814832347438243\n",
      "literature 0.28964062689017167\n",
      "warrior -0.13759116413136094\n",
      "doctor 0.020851269728831195\n",
      "tree -0.30827826929426794\n",
      "receptionist 0.11511399011454891\n",
      "technology -0.07854305273449784\n",
      "fashion 0.12960338120368148\n",
      "teacher 0.2003215102669975\n",
      "engineer 0.07846555321312887\n",
      "pilot -0.045003830855866\n",
      "computer -0.1492417650165763\n",
      "singer 0.07206556655832615\n"
     ]
    }
   ],
   "source": [
    "print('Other words and their similarities:')\n",
    "word_list = ['lipstick', 'guns', 'science', 'arts', 'literature', 'warrior','doctor', 'tree', 'receptionist', \n",
    "             'technology',  'fashion', 'teacher', 'engineer', 'pilot', 'computer', 'singer']\n",
    "for w in word_list:\n",
    "    print (w, cosine_similarity(word_to_vec_map[w], g))"
   ]
  },
  {
   "cell_type": "markdown",
   "id": "be1d860d-97ba-4965-ae9c-635eaa0ff527",
   "metadata": {
    "id": "YUzfNtq4JWhY"
   },
   "source": [
    "Some these results reflect certain unhealthy gender stereotypes. For example, we see “computer” is negative and is closer in value to male first names, while “literature” is positive and is closer to female first names.\n",
    "\n",
    "We can reduce the bias of these vectors, using an algorithm due to [Boliukbasi et al., 2016](https://arxiv.org/abs/1607.06520). Note that some word pairs such as \"actor\"/\"actress\" or \"grandmother\"/\"grandfather\" should remain gender-specific, while other words such as \"receptionist\" or \"technology\" should be neutralized, i.e. not be gender-related. We'll have to treat these two types of words differently when debiasing.\n",
    "\n",
    "<a name='5-1'></a>\n",
    "### 5.1 - Neutralize Bias for Non-Gender Specific Words \n",
    "\n",
    "The figure below should help you visualize what neutralizing does. If you're using a 50-dimensional word embedding, the 50 dimensional space can be split into two parts: The bias-direction $g$, and the remaining 49 dimensions, which is called $g_{\\perp}$ here. In linear algebra, we say that the 49-dimensional $g_{\\perp}$ is perpendicular (or \"orthogonal\") to $g$, meaning it is at 90 degrees to $g$. The neutralization step takes a vector such as $e_{receptionist}$ and zeros out the component in the direction of $g$, giving us $e_{receptionist}^{debiased}$. \n",
    "\n",
    "Even though $g_{\\perp}$ is 49-dimensional, given the limitations of what you can draw on a 2D screen, it's illustrated using a 1-dimensional axis below. \n",
    "\n",
    "<img src=\"images/neutral.png\" style=\"width:800px;height:300px;\">\n",
    "<img src=\"images/neutral.png\" width=\"800px\" height=\"300px\" />\n",
    "![]\n",
    "<caption><center><font color='purple'><b>Figure 2</b>: The word vector for \"receptionist\" represented before and after applying the neutralize operation.</font> </center></caption>\n",
    "\n",
    "<a name='ex-3'></a>\n",
    "### Neutralize\n",
    "\n",
    "Lets Implement `neutralize()` to remove the bias of words such as \"receptionist\" or \"scientist.\"\n",
    "\n",
    "Given an input embedding $e$, you can use the following formulas to compute $e^{debiased}$: \n",
    "\n",
    "$$e^{bias\\_component} = \\frac{e \\cdot g}{||g||_2^2} * g\\tag{2}$$\n",
    "$$e^{debiased} = e - e^{bias\\_component}\\tag{3}$$\n",
    "\n",
    "$e^{bias\\_component}$ is the projection of $e$ onto the direction $g$. \n",
    "<!-- \n",
    "**Reminder**: a vector $u$ can be split into two parts: its projection over a vector-axis $v_B$ and its projection over the axis orthogonal to $v$:\n",
    "$$u = u_B + u_{\\perp}$$\n",
    "where : $u_B = $ and $ u_{\\perp} = u - u_B $\n",
    "!--> "
   ]
  },
  {
   "cell_type": "code",
   "execution_count": 23,
   "id": "38862360-f82f-4554-87d9-b2095e7d887f",
   "metadata": {
    "id": "79Pk0QDhJWhZ"
   },
   "outputs": [],
   "source": [
    "def neutralize(word, g, word_to_vec_map):\n",
    "    \"\"\"\n",
    "    Removes the bias of \"word\" by projecting it on the space orthogonal to the bias axis. \n",
    "    This function ensures that gender neutral words are zero in the gender subspace.\n",
    "    \n",
    "    Arguments:\n",
    "        word -- string indicating the word to debias\n",
    "        g -- numpy-array of shape (50,), corresponding to the bias axis (such as gender)\n",
    "        word_to_vec_map -- dictionary mapping words to their corresponding vectors.\n",
    "    \n",
    "    Returns:\n",
    "        e_debiased -- neutralized word vector representation of the input \"word\"\n",
    "    \"\"\"\n",
    "    \n",
    "    ### START CODE HERE ###\n",
    "    # Select word vector representation of \"word\". Use word_to_vec_map. (≈ 1 line)\n",
    "    e = word_to_vec_map[word]\n",
    "    \n",
    "    # Compute e_biascomponent using the formula given above. (≈ 1 line)\n",
    "    \n",
    "    e_biascomponent = (np.dot(e,g)/(np.sum(g*g)))*g\n",
    " \n",
    "    # Neutralize e by subtracting e_biascomponent from it \n",
    "    # e_debiased should be equal to its orthogonal projection. (≈ 1 line)\n",
    "    e_debiased = e - e_biascomponent\n",
    "    ### END CODE HERE ###\n",
    "    \n",
    "    return e_debiased"
   ]
  },
  {
   "cell_type": "code",
   "execution_count": 24,
   "id": "94e9692b-19eb-491b-a2e2-da01f4075221",
   "metadata": {
    "id": "6PgkxwxXJWhZ"
   },
   "outputs": [
    {
     "name": "stdout",
     "output_type": "stream",
     "text": [
      "cosine similarity between receptionist and g, before neutralizing:  0.11511399011454891\n",
      "cosine similarity between receptionist and g, after neutralizing:  -3.545719701842963e-18\n"
     ]
    }
   ],
   "source": [
    "e = \"receptionist\"\n",
    "print(\"cosine similarity between \" + e + \" and g, before neutralizing: \", cosine_similarity(word_to_vec_map[\"receptionist\"], g))\n",
    "\n",
    "e_debiased = neutralize(\"receptionist\", g, word_to_vec_map)\n",
    "print(\"cosine similarity between \" + e + \" and g, after neutralizing: \", cosine_similarity(e_debiased, g))"
   ]
  },
  {
   "cell_type": "markdown",
   "id": "7bcf29d1-cd8b-461d-aece-ba0cd3488036",
   "metadata": {},
   "source": [
    "The second result is essentially 0, up to numerical rounding (on the order of $10^{-17}$).\n"
   ]
  }
 ],
 "metadata": {
  "kernelspec": {
   "display_name": "Python 3 (ipykernel)",
   "language": "python",
   "name": "python3"
  },
  "language_info": {
   "codemirror_mode": {
    "name": "ipython",
    "version": 3
   },
   "file_extension": ".py",
   "mimetype": "text/x-python",
   "name": "python",
   "nbconvert_exporter": "python",
   "pygments_lexer": "ipython3",
   "version": "3.10.6"
  }
 },
 "nbformat": 4,
 "nbformat_minor": 5
}
